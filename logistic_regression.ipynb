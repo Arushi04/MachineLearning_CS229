{
 "cells": [
  {
   "cell_type": "markdown",
   "metadata": {},
   "source": [
    "## 1.b Newton's Method \n",
    "Data files:    \n",
    "• http://cs229.stanford.edu/ps/ps1/logistic_x.txt     \n",
    "• http://cs229.stanford.edu/ps/ps1/logistic_y.txt\n",
    "\n",
    "These files contain the inputs (x(i) ∈ R2) and outputs (y(i) ∈ {−1,1}), respectively for a\n",
    "binary classification problem, with one training example per row. Implement2 Newton’s\n",
    "method for optimizing J(θ), and apply it to fit a logistic regression model to the data. ⃗\n",
    "Initialize Newton’s method with θ = 0 (the vector of all zeros). What are the coefficients θ resulting from your fit? (Remember to include the intercept term.)"
   ]
  },
  {
   "cell_type": "code",
   "execution_count": 89,
   "metadata": {},
   "outputs": [],
   "source": [
    "import sys\n",
    "import numpy as np\n",
    "from numpy import genfromtxt\n",
    "import matplotlib.pyplot as plt\n",
    "\n",
    "%matplotlib inline"
   ]
  },
  {
   "cell_type": "code",
   "execution_count": 90,
   "metadata": {},
   "outputs": [
    {
     "name": "stdout",
     "output_type": "stream",
     "text": [
      "   1.3432504e+00  -1.3311479e+00\r\n",
      "   1.8205529e+00  -6.3466810e-01\r\n",
      "   9.8632067e-01  -1.8885762e+00\r\n",
      "   1.9443734e+00  -1.6354520e+00\r\n",
      "   9.7673352e-01  -1.3533151e+00\r\n",
      "   1.9458584e+00  -2.0443278e+00\r\n",
      "   2.1075153e+00  -2.1256684e+00\r\n",
      "   2.0703730e+00  -2.4634101e+00\r\n",
      "   8.6864964e-01  -2.4119348e+00\r\n",
      "   1.8006594e+00  -2.7739689e+00\r\n"
     ]
    }
   ],
   "source": [
    "!head data/logistic_x.txt"
   ]
  },
  {
   "cell_type": "code",
   "execution_count": 91,
   "metadata": {},
   "outputs": [
    {
     "name": "stdout",
     "output_type": "stream",
     "text": [
      "   -1.0000000e+00\r\n",
      "   -1.0000000e+00\r\n",
      "   -1.0000000e+00\r\n",
      "   -1.0000000e+00\r\n",
      "   -1.0000000e+00\r\n",
      "   -1.0000000e+00\r\n",
      "   -1.0000000e+00\r\n",
      "   -1.0000000e+00\r\n",
      "   -1.0000000e+00\r\n",
      "   -1.0000000e+00\r\n"
     ]
    }
   ],
   "source": [
    "!head data/logistic_y.txt"
   ]
  },
  {
   "cell_type": "code",
   "execution_count": 92,
   "metadata": {},
   "outputs": [],
   "source": [
    "# Reading input and label\n",
    "\n",
    "features = np.genfromtxt('data/logistic_x.txt', delimiter='', dtype='float')\n",
    "label = np.genfromtxt('data/logistic_y.txt', delimiter='', dtype='float')\n",
    "\n",
    "features = np.insert(features, 0, values=1, axis=1)\n",
    "label = np.reshape(label, (label.shape[0], 1))"
   ]
  },
  {
   "cell_type": "code",
   "execution_count": 93,
   "metadata": {},
   "outputs": [
    {
     "name": "stdout",
     "output_type": "stream",
     "text": [
      "(99, 3)\n",
      "(99, 1)\n"
     ]
    }
   ],
   "source": [
    "print(features.shape)\n",
    "print(label.shape)\n"
   ]
  },
  {
   "cell_type": "code",
   "execution_count": 94,
   "metadata": {},
   "outputs": [],
   "source": [
    "def get_hypothesis(theta, features, y):\n",
    "    #theta : N*1, features : M X N\n",
    "    x_theta = np.matmul(features, theta)\n",
    "    y_x = np.multiply(y, x_theta)\n",
    "    h_x = 1/(1+ np.exp(-y_x)) #M*1\n",
    "    return h_x \n",
    "\n",
    "                  \n",
    "def get_loss(y, features, theta, eps=1e-10):\n",
    "    #features: M*N, theta: N*1, y: M*1 \n",
    "    x_theta = np.matmul(features, theta)\n",
    "    y_x = np.multiply(y, x_theta)\n",
    "    loss = np.log(1 + (np.exp(-y_x)))\n",
    "    loss = np.mean(loss)\n",
    "    return loss\n",
    "             \n",
    "\n",
    "def get_gradient(y, h_x, features):\n",
    "    # y : M*1, h_x = M*1, features = M*N\n",
    "    prediction = h_x - 1  #[M*1]\n",
    "    prediction = np.multiply(prediction, y)\n",
    "    gradient = np.matmul(np.transpose(prediction), features) #[1XN]\n",
    "    return np.transpose(gradient) # N*1\n",
    "\n",
    "\n",
    "def get_hessian(features, h_x):\n",
    "    # features : M*N, h_x: M*1\n",
    "    M = features.shape[0]\n",
    "    diagonal_matrix = np.zeros((M , M))\n",
    "    diagonal_values = np.multiply(h_x, (1-h_x)) # M * 1\n",
    "    np.fill_diagonal(diagonal_matrix, diagonal_values) \n",
    "    hessian = np.matmul(np.transpose(features), diagonal_matrix) # [N*M] * [M*M] = N*M\n",
    "    hessian = np.matmul(hessian, features) # [N*M] * [M*N] = [N*N]\n",
    "    return hessian\n",
    "\n"
   ]
  },
  {
   "cell_type": "code",
   "execution_count": 95,
   "metadata": {},
   "outputs": [
    {
     "name": "stdout",
     "output_type": "stream",
     "text": [
      "Final set of coefficients :  [[-2.6205116 ]\n",
      " [ 0.76037154]\n",
      " [ 1.17194674]]\n"
     ]
    }
   ],
   "source": [
    "#Main function\n",
    "\n",
    "old_theta = None\n",
    "eps = 1e-4\n",
    "theta = np.zeros((np.shape(features)[1],1)) #N*1 : 3*1 \n",
    "\n",
    "while True:\n",
    "    h_x = get_hypothesis(theta, features, label) #M*1\n",
    "    gradient = get_gradient(label, h_x, features) #N*1\n",
    "    hessian = get_hessian(features, h_x) + eps #N*N\n",
    "    \n",
    "    theta = theta - np.matmul(np.linalg.inv(hessian), gradient) # N*1 = N*1 - [(N*N)*(N*1)]\n",
    "    \n",
    "    h_x = get_hypothesis(theta, features, label) #M*1 New Hypothesis\n",
    "    loss = get_loss(label, features, theta)\n",
    "    \n",
    "    if old_theta is not None and np.sum(np.abs(theta - old_theta)) < eps:\n",
    "        break\n",
    "    old_theta = theta\n",
    "    \n",
    "print(\"Final set of coefficients : \", theta)"
   ]
  },
  {
   "cell_type": "markdown",
   "metadata": {},
   "source": [
    "## 1. (c) Plotting the decision boundary:\n",
    "\n",
    "Plot the training data (your axes should be x1 and x2, corresponding to the two coordinates of the inputs, and you should use a different symbol for each point plotted to indicate whether that example had label 1 or -1). Also plot on the same figure the decision boundary fit by logistic regression. (This should be a straight line showing the boundary separating the region where hθ(x) > 0.5 from where hθ(x) ≤ 0.5.)"
   ]
  },
  {
   "cell_type": "code",
   "execution_count": 96,
   "metadata": {},
   "outputs": [
    {
     "data": {
      "image/png": "[encoded data removed]",
      "text/plain": [
       "<Figure size 432x288 with 1 Axes>"
      ]
     },
     "metadata": {
      "needs_background": "light"
     },
     "output_type": "display_data"
    }
   ],
   "source": [
    "x1 = features[:, 1]\n",
    "x2 = features[:, 2]\n",
    "line_x = np.linspace(min(x), max(x), num=10) #selecting 10 random numbers equally spaced between min and max\n",
    "line_y = np.linspace(min(y), max(y), num=10)\n",
    "\n",
    "line = (theta[0] + theta[1] * line_x) / (-theta[2]) \n",
    "\n",
    "plt.scatter(x1, x2, c=label[:,0].tolist())\n",
    "plt.plot(line, '--', c=\"red\")\n",
    "plt.show()"
   ]
  },
  {
   "cell_type": "code",
   "execution_count": null,
   "metadata": {},
   "outputs": [],
   "source": []
  }
 ],
 "metadata": {
  "kernelspec": {
   "display_name": "Python 3",
   "language": "python",
   "name": "python3"
  },
  "language_info": {
   "codemirror_mode": {
    "name": "ipython",
    "version": 3
   },
   "file_extension": ".py",
   "mimetype": "text/x-python",
   "name": "python",
   "nbconvert_exporter": "python",
   "pygments_lexer": "ipython3",
   "version": "3.7.3"
  }
 },
 "nbformat": 4,
 "nbformat_minor": 2
}
